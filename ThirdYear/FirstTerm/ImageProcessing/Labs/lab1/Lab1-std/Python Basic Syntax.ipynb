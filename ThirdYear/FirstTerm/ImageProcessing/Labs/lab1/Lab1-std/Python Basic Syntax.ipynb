{
 "cells": [
  {
   "cell_type": "code",
   "execution_count": 1,
   "metadata": {},
   "outputs": [
    {
     "name": "stdout",
     "output_type": "stream",
     "text": [
      "3 True String!\n"
     ]
    }
   ],
   "source": [
    "#You declare the variable without type.\n",
    "a = 3\n",
    "b = True\n",
    "c = 'String!'\n",
    "print(a,b,c)"
   ]
  },
  {
   "cell_type": "code",
   "execution_count": 1,
   "metadata": {},
   "outputs": [
    {
     "name": "stdout",
     "output_type": "stream",
     "text": [
      "2.5\n",
      "2\n"
     ]
    }
   ],
   "source": [
    "print(5/2)\n",
    "print(int(5/2))"
   ]
  },
  {
   "cell_type": "code",
   "execution_count": 3,
   "metadata": {},
   "outputs": [
    {
     "name": "stdout",
     "output_type": "stream",
     "text": [
      "show array with for in\n",
      "1\n",
      "2\n",
      "3\n",
      "4\n",
      "5\n",
      "show array with for in range\n",
      "1\n",
      "2\n",
      "3\n",
      "4\n",
      "5\n",
      "show even numbers\n",
      "2\n",
      "4\n"
     ]
    }
   ],
   "source": [
    "#Loops\n",
    "arr = [1,2,3,4,5]\n",
    "print('show array with for in')\n",
    "for x in arr:\n",
    "    print(x)\n",
    "print('show array with for in range')\n",
    "for x in range(len(arr)):\n",
    "    print(arr[x])\n",
    "print('show even numbers')\n",
    "for x in arr:\n",
    "    if x%2 == 0:\n",
    "        print(x)\n"
   ]
  },
  {
   "cell_type": "code",
   "execution_count": 9,
   "metadata": {},
   "outputs": [
    {
     "name": "stdout",
     "output_type": "stream",
     "text": [
      "[0, 1, 2]\n",
      "[0 1 2 3 4 5]\n",
      "[0 0 0 3 4 5]\n",
      "[-1  1 -1  3 -1  5]\n"
     ]
    }
   ],
   "source": [
    "# Array Indexing:\n",
    "arr = [0,1,2,3,4,5]\n",
    "print(arr[0:3]) # the 3 is excluded.\n",
    "\n",
    "import numpy as np\n",
    "\n",
    "\n",
    "# this is one Diminsion array but using the numpy library which is much faster and efficient than \n",
    "# python arrays \n",
    "origMat = np.array(arr)\n",
    "mat = np.copy(origMat)\n",
    "print(mat)\n",
    "mat[0:3] = 0 # 0 1 2 only will get that value\n",
    "print(mat)\n",
    "mat = np.copy(origMat)\n",
    "mat[(mat%2==0)] = -1 # here we place -1 in the even indicies only\n",
    "print(mat)"
   ]
  },
  {
   "cell_type": "code",
   "execution_count": 5,
   "metadata": {},
   "outputs": [
    {
     "name": "stdout",
     "output_type": "stream",
     "text": [
      "[[1 2 3 4 5]\n",
      " [1 2 3 4 5]\n",
      " [1 2 3 4 5]]\n",
      "[[1 2 3 4 5]\n",
      " [1 0 0 4 5]\n",
      " [1 0 0 4 5]]\n"
     ]
    }
   ],
   "source": [
    "origMat = np.array([ # implementing 2D matrix \n",
    "                   [1,2,3,4,5],\n",
    "                   [1,2,3,4,5],\n",
    "                   [1,2,3,4,5]\n",
    "                   ])\n",
    "mat = np.copy(origMat)\n",
    "print(mat)\n",
    "mat[1:3,1:3] = 0 # (1,1), (1,2), (2,1), (2,2)\n",
    "print(mat)"
   ]
  },
  {
   "cell_type": "code",
   "execution_count": 6,
   "metadata": {},
   "outputs": [
    {
     "name": "stdout",
     "output_type": "stream",
     "text": [
      "[[0. 0. 0. 0. 0.]\n",
      " [0. 0. 0. 0. 0.]\n",
      " [0. 0. 0. 0. 0.]\n",
      " [0. 0. 0. 0. 0.]\n",
      " [0. 0. 0. 0. 0.]\n",
      " [0. 0. 0. 0. 0.]]\n",
      "[[1. 1. 1. 1. 1.]\n",
      " [1. 1. 1. 1. 1.]\n",
      " [1. 1. 1. 1. 1.]\n",
      " [1. 1. 1. 1. 1.]\n",
      " [1. 1. 1. 1. 1.]\n",
      " [1. 1. 1. 1. 1.]]\n",
      "(6, 5)\n",
      "6\n"
     ]
    }
   ],
   "source": [
    "arrZeros = np.zeros((6,5)) # this is how we define the mat which contains zeros, 6 rows and 5 columns\n",
    "arrOnes =np.ones((6,5)) # this is how we define the mat which contains ones \n",
    "print(arrZeros)\n",
    "print(arrOnes)\n",
    "print(arrOnes.shape) # shape returns a tuple of the diminsions of the mat or the mat (#rows, #columns, #3rdDimm, ... and so on)\n",
    "print(arrOnes.shape[0]) # returns the number of rows only"
   ]
  },
  {
   "cell_type": "code",
   "execution_count": 11,
   "metadata": {},
   "outputs": [
    {
     "name": "stdout",
     "output_type": "stream",
     "text": [
      "1 2 3\n",
      "1 2 3\n"
     ]
    }
   ],
   "source": [
    "# Shows the fact that Python uses KEYWORD ARGUMENTS as well as the traditional positional arguments.\n",
    "## Notice that: in the output of the first and second call to function fun are the same.\n",
    "## In the second call (using keywords arguments), sorting arguments is not needed.\n",
    "\n",
    "\n",
    "def fun(x,y,z):\n",
    "    print (x,y,z)\n",
    "    \n",
    "fun(1,2,3)\n",
    "fun(z=3,y=2,x=1) # this is a better version because we can indicate which value to which element"
   ]
  },
  {
   "cell_type": "code",
   "execution_count": 12,
   "metadata": {},
   "outputs": [
    {
     "name": "stdout",
     "output_type": "stream",
     "text": [
      "x is None\n"
     ]
    }
   ],
   "source": [
    "#instead of NULL: None\n",
    "\n",
    "x = None\n",
    "if (x==None):\n",
    "    print('x is None')\n"
   ]
  },
  {
   "cell_type": "code",
   "execution_count": null,
   "metadata": {},
   "outputs": [],
   "source": []
  }
 ],
 "metadata": {
  "kernelspec": {
   "display_name": "Python 3.9.13 64-bit (microsoft store)",
   "language": "python",
   "name": "python3"
  },
  "language_info": {
   "codemirror_mode": {
    "name": "ipython",
    "version": 3
   },
   "file_extension": ".py",
   "mimetype": "text/x-python",
   "name": "python",
   "nbconvert_exporter": "python",
   "pygments_lexer": "ipython3",
   "version": "3.9.13"
  },
  "vscode": {
   "interpreter": {
    "hash": "bf92a130661662e0cce77e1268518b0043b67ae8bbcb2e51e2cd799c9250d654"
   }
  }
 },
 "nbformat": 4,
 "nbformat_minor": 2
}
